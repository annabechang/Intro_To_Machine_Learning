{
 "cells": [
  {
   "cell_type": "code",
   "execution_count": 4,
   "metadata": {},
   "outputs": [],
   "source": [
    "def outlierCleaner(predictions, ages, net_worths):\n",
    "   \n",
    "    cleaned_data = []\n",
    "\n",
    "    for (prednw, actualnw, age) in zip(predictions, net_worths, ages):\n",
    "        cleaned_data.append((age[0], actualnw[0], prednw[0] - actualnw[0]))\n",
    "\n",
    "    # sort list based on error\n",
    "    cleaned_data.sort(cd, key = lambda x: x[2])\n",
    "\n",
    "    return cleaned_data[:81]"
   ]
  },
  {
   "cell_type": "code",
   "execution_count": null,
   "metadata": {
    "collapsed": true
   },
   "outputs": [],
   "source": []
  }
 ],
 "metadata": {
  "kernelspec": {
   "display_name": "Python 2",
   "language": "python",
   "name": "python2"
  },
  "language_info": {
   "codemirror_mode": {
    "name": "ipython",
    "version": 2
   },
   "file_extension": ".py",
   "mimetype": "text/x-python",
   "name": "python",
   "nbconvert_exporter": "python",
   "pygments_lexer": "ipython2",
   "version": "2.7.14"
  }
 },
 "nbformat": 4,
 "nbformat_minor": 2
}
