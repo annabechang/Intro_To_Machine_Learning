{
 "cells": [
  {
   "cell_type": "code",
   "execution_count": 10,
   "metadata": {
    "collapsed": true
   },
   "outputs": [],
   "source": [
    "#!/usr/bin/python\n",
    "\n",
    "import sys\n",
    "import pickle\n",
    "sys.path.append(\"../tools/\")\n",
    "\n",
    "from feature_format import featureFormat, targetFeatureSplit\n",
    "from tester import dump_classifier_and_data\n",
    "\n"
   ]
  },
  {
   "cell_type": "code",
   "execution_count": 11,
   "metadata": {},
   "outputs": [
    {
     "data": {
      "text/plain": [
       "['salary',\n",
       " 'deferral_payments',\n",
       " 'total_payments',\n",
       " 'loan_advances',\n",
       " 'bonus',\n",
       " 'restricted_stock_deferred',\n",
       " 'deferred_income',\n",
       " 'total_stock_value',\n",
       " 'expenses',\n",
       " 'exercised_stock_options',\n",
       " 'long_term_incentive',\n",
       " 'restricted_stock',\n",
       " 'director_fees',\n",
       " 'to_messages',\n",
       " 'from_poi_to_this_person',\n",
       " 'from_messages',\n",
       " 'from_this_person_to_poi',\n",
       " 'shared_receipt_with_poi',\n",
       " 'poi']"
      ]
     },
     "execution_count": 11,
     "metadata": {},
     "output_type": "execute_result"
    }
   ],
   "source": [
    "### Task 1: Select what features you'll use.\n",
    "### features_list is a list of strings, each of which is a feature name.\n",
    "### The first feature must be \"poi\".\n",
    "# You will need to use more features\n",
    "financial_features= ['salary', 'deferral_payments', 'total_payments', \n",
    "'loan_advances', 'bonus', 'restricted_stock_deferred', 'deferred_income', \n",
    "'total_stock_value', 'expenses', 'exercised_stock_options', 'other', \n",
    "'long_term_incentive', 'restricted_stock', 'director_fees'] \n",
    "    #(all units are in US dollars)\n",
    "\n",
    "email_features=['to_messages', 'email_address', 'from_poi_to_this_person', \n",
    "'from_messages', 'from_this_person_to_poi', 'shared_receipt_with_poi'] \n",
    "\n",
    "#(units are generally number of emails messages; \n",
    "#notable exception is ‘email_address’, which is a text string)\n",
    "\n",
    "poi= ['poi'] \n",
    "#(boolean, represented as integer)\n",
    "\n",
    "features_list = financial_features+email_features+poi\n",
    "\n",
    "NAN_value = 'NaN'\n",
    "\n",
    "#remove what does not help : email address and other \n",
    "features_list.remove('email_address')\n",
    "features_list.remove('other')\n",
    "\n",
    "features_list"
   ]
  },
  {
   "cell_type": "code",
   "execution_count": 20,
   "metadata": {
    "collapsed": true
   },
   "outputs": [],
   "source": [
    "### Load the dictionary containing the dataset\n",
    "def load_preprocess_data():\n",
    "    with open(\"final_project_dataset.pkl\", \"r\") as data_file:\n",
    "        data_dict = pickle.load(data_file)\n",
    "    outliers = ['TOTAL','THE TRAVEL AGENCY IN THE PARK']\n",
    "### Task 2: Remove outliers\n",
    "\n",
    "    for outlier in outliers:\n",
    "            data_dict.pop(outlier, 0)\n",
    "    return data_dict"
   ]
  },
  {
   "cell_type": "code",
   "execution_count": 32,
   "metadata": {},
   "outputs": [
    {
     "name": "stderr",
     "output_type": "stream",
     "text": [
      "IOPub data rate exceeded.\n",
      "The notebook server will temporarily stop sending output\n",
      "to the client in order to avoid crashing it.\n",
      "To change this limit, set the config variable\n",
      "`--NotebookApp.iopub_data_rate_limit`.\n"
     ]
    }
   ],
   "source": [
    "### Task 3: Create new feature(s)\n",
    "### Store to my_dataset for easy export below.\n",
    "my_dataset = data_dict\n",
    "\n",
    "for person in my_dataset.values():\n",
    "    try:\n",
    "        person['to_poi_message_ratio'] = 0\n",
    "        person['from_poi_message_ratio'] = 0\n",
    "        total_messages = float(person['from_messages']) + float(person['to_messages'])\n",
    "\n",
    "        if float(person['from_messages']) > 0:\n",
    "            person['to_poi_message_ratio'] = float(person['from_this_person_to_poi'])/float(person['from_messages'])\n",
    "        if float(person['to_messages']) > 0:\n",
    "            person['from_poi_message_ratio'] = float(person['from_poi_to_this_person'])/float(person['to_messages'])\n",
    "        if float(person['from_poi_message_ratio']) or float(person['to_poi_message_ratio'])>0:\n",
    "            person['poi_related_message'] = (float(person['from_poi_to_this_person'])+float(person['to_poi_message_ratio']))/float(total_messages)\n",
    "\n",
    "        features_list.extend(['to_poi_message_ratio', 'from_poi_message_ratio','poi_related_message'])   \n",
    "        print(features_list)\n",
    "    except:\n",
    "        person['poi_ratio_messages'] = NAN_value\n",
    "    "
   ]
  },
  {
   "cell_type": "code",
   "execution_count": null,
   "metadata": {
    "collapsed": true
   },
   "outputs": [],
   "source": [
    "\n",
    "### Extract features and labels from dataset for local testing\n",
    "data = featureFormat(my_dataset, features_list, sort_keys = True)\n",
    "labels, features = targetFeatureSplit(data)"
   ]
  },
  {
   "cell_type": "code",
   "execution_count": null,
   "metadata": {
    "collapsed": true
   },
   "outputs": [],
   "source": [
    "### Task 4: Try a varity of classifiers\n",
    "### Please name your classifier clf for easy export below.\n",
    "### Note that if you want to do PCA or other multi-stage operations,\n",
    "### you'll need to use Pipelines. For more info:\n",
    "### http://scikit-learn.org/stable/modules/pipeline.html\n",
    "\n",
    "\n",
    "\n",
    "\n",
    "# Provided to give you a starting point. Try a variety of classifiers.\n",
    "from sklearn.naive_bayes import GaussianNB\n",
    "clf = GaussianNB()"
   ]
  },
  {
   "cell_type": "code",
   "execution_count": null,
   "metadata": {
    "collapsed": true
   },
   "outputs": [],
   "source": [
    "### Task 5: Tune your classifier to achieve better than .3 precision and recall \n",
    "### using our testing script. Check the tester.py script in the final project\n",
    "### folder for details on the evaluation method, especially the test_classifier\n",
    "### function. Because of the small size of the dataset, the script uses\n",
    "### stratified shuffle split cross validation. For more info: \n",
    "### http://scikit-learn.org/stable/modules/generated/sklearn.cross_validation.StratifiedShuffleSplit.html\n",
    "\n",
    "\n",
    "\n",
    "# Example starting point. Try investigating other evaluation techniques!\n",
    "from sklearn.cross_validation import train_test_split\n",
    "features_train, features_test, labels_train, labels_test = \\\n",
    "    train_test_split(features, labels, test_size=0.3, random_state=42)"
   ]
  },
  {
   "cell_type": "code",
   "execution_count": null,
   "metadata": {
    "collapsed": true
   },
   "outputs": [],
   "source": [
    "### Task 6: Dump your classifier, dataset, and features_list so anyone can\n",
    "### check your results. You do not need to change anything below, but make sure\n",
    "### that the version of poi_id.py that you submit can be run on its own and\n",
    "### generates the necessary .pkl files for validating your results.\n",
    "\n",
    "dump_classifier_and_data(clf, my_dataset, features_list)"
   ]
  }
 ],
 "metadata": {
  "kernelspec": {
   "display_name": "Python 2",
   "language": "python",
   "name": "python2"
  },
  "language_info": {
   "codemirror_mode": {
    "name": "ipython",
    "version": 2
   },
   "file_extension": ".py",
   "mimetype": "text/x-python",
   "name": "python",
   "nbconvert_exporter": "python",
   "pygments_lexer": "ipython2",
   "version": "2.7.14"
  }
 },
 "nbformat": 4,
 "nbformat_minor": 2
}
