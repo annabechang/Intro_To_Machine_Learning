{
 "cells": [
  {
   "cell_type": "code",
   "execution_count": 5,
   "metadata": {},
   "outputs": [
    {
     "name": "stdout",
     "output_type": "stream",
     "text": [
      "[0.0, 0.4166666666666667, 1.0]\n"
     ]
    }
   ],
   "source": [
    "\"\"\" quiz materials for feature scaling clustering \"\"\"\n",
    "\n",
    "### FYI, the most straightforward implementation might \n",
    "### throw a divide-by-zero error, if the min and max\n",
    "### values are the same\n",
    "### but think about this for a second--that means that every\n",
    "### data point has the same value for that feature!  \n",
    "### why would you rescale it?  Or even use it at all?\n",
    "def featureScaling(arr):\n",
    "    max_d = max(arr)\n",
    "    min_d = min(arr)\n",
    "\n",
    "    if max_d == min_d:\n",
    "        return None\n",
    "    else: \n",
    "        rescalled = [(i - min_d)/float((max_d - min_d)) for i in arr]\n",
    "    return rescalled\n",
    "\n",
    "# tests of your feature scaler--line below is input data\n",
    "data = [115, 140, 175]\n",
    "print featureScaling(data)\n"
   ]
  },
  {
   "cell_type": "code",
   "execution_count": null,
   "metadata": {
    "collapsed": true
   },
   "outputs": [],
   "source": [
    "def featureScaling(arr):\n",
    "    answer = []\n",
    "    for i in arr:\n",
    "        value = (i-min(arr))/float((max(arr)-min(arr)))\n",
    "        answer.append(value) \n",
    "    return answer\n",
    "\n",
    "\n",
    "data = [115, 140, 175]\n",
    "print featureScaling(data)"
   ]
  }
 ],
 "metadata": {
  "kernelspec": {
   "display_name": "Python 2",
   "language": "python",
   "name": "python2"
  },
  "language_info": {
   "codemirror_mode": {
    "name": "ipython",
    "version": 2
   },
   "file_extension": ".py",
   "mimetype": "text/x-python",
   "name": "python",
   "nbconvert_exporter": "python",
   "pygments_lexer": "ipython2",
   "version": "2.7.14"
  }
 },
 "nbformat": 4,
 "nbformat_minor": 2
}
